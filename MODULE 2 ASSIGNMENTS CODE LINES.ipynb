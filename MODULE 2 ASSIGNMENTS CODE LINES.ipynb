{
 "cells": [
  {
   "cell_type": "code",
   "execution_count": 3,
   "id": "fab27e64",
   "metadata": {
    "scrolled": true
   },
   "outputs": [
    {
     "name": "stderr",
     "output_type": "stream",
     "text": [
      "C:\\Users\\lj216\\AppData\\Local\\Temp\\ipykernel_18952\\3329726764.py:7: DtypeWarning: Columns (3,4,5,6,12) have mixed types. Specify dtype option on import or set low_memory=False.\n",
      "  employees_file = pd.read_csv(\"Salaries.csv\")\n"
     ]
    },
    {
     "name": "stdout",
     "output_type": "stream",
     "text": [
      "which employee's record are you looking for also\n",
      "Name not found\n"
     ]
    }
   ],
   "source": [
    "# importing the employees register through pandas to upload employees payroll database\n",
    "import pandas as pd\n",
    "import zipfile\n",
    "import os\n",
    "\n",
    "\n",
    "employees_file = pd.read_csv(\"Salaries.csv\")\n",
    "\n",
    "# mapping the employees data frame to return list of dicts  \n",
    "\n",
    "emp_dict = employees_file.to_dict(orient='records')\n",
    "\n",
    "# defining employees functions to enable search criteria and to also ignore letter case error\n",
    "\n",
    "def employee_search (name):\n",
    "    for emp in emp_dict:\n",
    "        if emp['EmployeeName'].lower() == name.lower():\n",
    "            return emp\n",
    "    \n",
    "# code line to include function to prompt employees names to provide details \n",
    "emp_name = input(\"which employee's record are you looking for \")\n",
    "\n",
    "#Exception handling to prevent traceback machine error and replace with specific message in case of any error. \n",
    "\n",
    "try:\n",
    "    result = employee_search(emp_name)\n",
    "    \n",
    "    if result == None:\n",
    "        raise\n",
    "    \n",
    "    # converting dict to a table using\n",
    "    df = pd.DataFrame([result])\n",
    "    \n",
    "    profile_folder = \"Employee Profile\"\n",
    "    path = os.path.join(os.path.abspath(os.getcwd()), profile_folder)\n",
    "    \n",
    "    filename = os.path.join(path, result['EmployeeName'] + \".csv\")\n",
    "    \n",
    "    profile_folder_exist = os.path.exists(path)\n",
    "    if not profile_folder_exist:\n",
    "        os.mkdir(profile_folder)\n",
    "\n",
    "    df.to_csv(filename, index=False,)\n",
    "    \n",
    "    zipfile.ZipFile(profile_folder + '.zip', mode='a').write(os.path.join(profile_folder, result['EmployeeName'] + \".csv\"))\n",
    "\n",
    "    print(df)\n",
    "except:\n",
    "    print(\"Name not found\")\n",
    "    \n",
    "    \n"
   ]
  }
 ],
 "metadata": {
  "kernelspec": {
   "display_name": "Python 3 (ipykernel)",
   "language": "python",
   "name": "python3"
  },
  "language_info": {
   "codemirror_mode": {
    "name": "ipython",
    "version": 3
   },
   "file_extension": ".py",
   "mimetype": "text/x-python",
   "name": "python",
   "nbconvert_exporter": "python",
   "pygments_lexer": "ipython3",
   "version": "3.9.12"
  }
 },
 "nbformat": 4,
 "nbformat_minor": 5
}
